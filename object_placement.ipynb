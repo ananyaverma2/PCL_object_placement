{
 "cells": [
  {
   "cell_type": "markdown",
   "id": "44a5fb5e",
   "metadata": {},
   "source": [
    "# Object placement using Point Cloud Library"
   ]
  },
  {
   "cell_type": "code",
   "execution_count": 1,
   "id": "ca01d076",
   "metadata": {},
   "outputs": [
    {
     "name": "stderr",
     "output_type": "stream",
     "text": [
      "/home/ananya/anaconda3/lib/python3.8/site-packages/scipy/__init__.py:146: UserWarning: A NumPy version >=1.16.5 and <1.23.0 is required for this version of SciPy (detected version 1.23.3\n",
      "  warnings.warn(f\"A NumPy version >={np_minversion} and <{np_maxversion}\"\n"
     ]
    }
   ],
   "source": [
    "from typing import Sequence\n",
    "import numpy as np\n",
    "import matplotlib.pyplot as plt\n",
    "from mpl_toolkits.mplot3d import Axes3D\n",
    "import IPython\n",
    "import scipy.spatial\n",
    "import time\n",
    "start_time = time.time()\n",
    "import matplotlib.pyplot as plt\n",
    "from mpl_toolkits.mplot3d import proj3d"
   ]
  },
  {
   "cell_type": "markdown",
   "id": "df15f0c8",
   "metadata": {},
   "source": [
    "Lucy is equipped with an RGB-D sensor (Asus Xtion) with which it obtains the required data for carrying out many of its tasks. RGB-D sensors can be used to obtain both a regular color image of a scene and what is called a depth image, in which each pixel encodes distances to the camera's sensor; these distances are typically given with respect to a reference frame whose origin is at the location of the camera's sensor.\n",
    "\n",
    "The images depicted below are the colored image and a representation of the depth image of the dinner table at the @Home Lab taken by Lucy. \n",
    "\n",
    "![Lucy RGB](img/RGB_view.jpeg) \n",
    "\n",
    "![Lucy Depth](img/depth.jpeg)\n",
    "\n",
    "\n",
    "The picture below shows the scene as a point cloud obtained by the sensor mounted on the office's ceiling. Note that the unit of distance in the point cloud is **meters**.\n",
    "![Lucy PointCloud](img/point_cloud.jpeg)\n",
    "\n",
    "This project is created to identify possible drop points where the robot could place an object it is holding.\n",
    "\n",
    "The pose of the camera relative to Lucy's base is located $(-0.001$, $0.018$, $0.990)$ meters away from the base frame and is rotated $-107.715^o$ about $z$, $-0.626$ about $y$ and $-90.138^o$ about $x$."
   ]
  },
  {
   "cell_type": "markdown",
   "id": "1df0d1bd",
   "metadata": {},
   "source": [
    "## transforming the points with respect to the base of Lucy."
   ]
  },
  {
   "cell_type": "code",
   "execution_count": 2,
   "id": "713820e3",
   "metadata": {},
   "outputs": [],
   "source": [
    "# Loading point cloud data. \n",
    "point_cloud = np.genfromtxt(\"data/cloud.pcd\", skip_header=11)\n",
    "transformed_points = None\n",
    "\n",
    "# Returns a matrix of a frame rotated about X\n",
    "def get_RX(theta: float) -> np.ndarray:\n",
    "    A_B_R = np.array([[1., 0.,             0.], \n",
    "                      [0., np.cos(theta), -np.sin(theta)], \n",
    "                      [0., np.sin(theta), np.cos(theta)]])\n",
    "    return A_B_R\n",
    "\n",
    "def get_RY(theta: float) -> np.ndarray:\n",
    "    A_B_R = np.array([[np.cos(theta),  0., np.sin(theta)], \n",
    "                      [0.,             1., 0.], \n",
    "                      [-np.sin(theta), 0., np.cos(theta)]])\n",
    "    return A_B_R\n",
    "    \n",
    "def get_RZ(theta: float) -> np.ndarray:\n",
    "    A_B_R = np.array([[np.cos(theta), -np.sin(theta), 0.], \n",
    "                      [np.sin(theta), np.cos(theta),  0.], \n",
    "                      [0.,            0.,             1.]])\n",
    "    return A_B_R\n",
    "\n",
    "# rotation_angles: Sequence[float] -- rotation angles (in degrees) in the order [z, y, x]\n",
    "# translation: Sequence[float] -- translation (in meters) in the order [x, y, z]\n",
    "def get_homogeneous_transform(rotation_angles: Sequence[float],\n",
    "                              translation: Sequence[float]) -> np.ndarray:\n",
    "    \n",
    "    rotation_matrix = np.dot(np.dot(get_RZ(np.deg2rad(rotation_angles[0])), get_RY(np.deg2rad(rotation_angles[1]))), get_RX(np.deg2rad(rotation_angles[2])))\n",
    "    translation = translation[np.newaxis].T\n",
    "    T = np.hstack((rotation_matrix, translation))\n",
    "    T = np.vstack((T, np.array([0., 0., 0., 1.])))    \n",
    "    return T\n",
    "\n",
    "T_C_B = get_homogeneous_transform(np.array([-107.715, -0.626, -90.138]), np.array([-0.001 , 0.018, 0.990]))\n",
    "\n",
    "temp_matrix = np.array([[0.],\n",
    "                       [0.],\n",
    "                       [0.],\n",
    "                       [0.]])\n",
    "\n",
    "for i in range(point_cloud.shape[0]):\n",
    "    point_cloud_vector = np.vstack((point_cloud[i,:][np.newaxis].T, np.array([1.])))\n",
    "    output = np.dot(T_C_B, point_cloud_vector)\n",
    "    temp_matrix = np.hstack((temp_matrix, output))\n",
    "\n",
    "transformed_points = np.delete(temp_matrix, 0, 1)\n",
    "transformed_points = np.delete(transformed_points, (3), axis=0)\n",
    "transformed_points = transformed_points.T\n"
   ]
  },
  {
   "cell_type": "markdown",
   "id": "30012326",
   "metadata": {},
   "source": [
    "## implementing the point ranking algorithm by filling out the missing code in the function below."
   ]
  },
  {
   "cell_type": "code",
   "execution_count": 3,
   "id": "deb2e79b",
   "metadata": {},
   "outputs": [],
   "source": [
    "def rate_placements(point_cloud: np.ndarray) -> np.ndarray:\n",
    "    \"\"\"\n",
    "    This function returns the angles of each point in point_cloud\n",
    "    with respect to the Z-axis.\n",
    "    \"\"\"\n",
    "    point_tree = scipy.spatial.cKDTree(point_cloud)\n",
    "    angles = np.array([])\n",
    "    cnt = 0\n",
    "    for a_point in point_cloud[:,:]:\n",
    "        # this function call returns index of all the points that are at a distance of 0.04 from point a_point\n",
    "        results_idx = point_tree.query_ball_point(a_point, 0.04, p=2) # r=0.04 (in meter), and p=2 (L2 norm)\n",
    "        if len(results_idx) == 1:\n",
    "            angle = 1.0\n",
    "            angles = np.hstack((angles, angle))\n",
    "            continue\n",
    "        \n",
    "        nearby_points = point_cloud[results_idx]        \n",
    "        cov = np.cov(nearby_points.T)\n",
    "        eigenvalues, eigenvectors = np.linalg.eigh(cov)\n",
    "        #taking min eigenvalue's eigenvector\n",
    "        w = eigenvectors[:,0]\n",
    "        #Finding a angle between normal vector(w) and Z vector\n",
    "        w = w.ravel()\n",
    "        z_vector = [0,0,1]\n",
    "        unit_vector1 = w / np.linalg.norm(w)\n",
    "        unit_vector2 = z_vector / np.linalg.norm(z_vector)\n",
    "        dot_product = np.dot(unit_vector1, unit_vector2)\n",
    "        angle = np.arccos(dot_product) #angle in radian\n",
    "        angles = np.hstack((angles, angle))\n",
    "    return angles\n",
    "\n",
    "angles = rate_placements(transformed_points)\n",
    "\n",
    "angles = np.array(angles)\n",
    "angles = np.where(angles > 1 , 1, angles)"
   ]
  },
  {
   "cell_type": "markdown",
   "id": "5e317adf",
   "metadata": {},
   "source": [
    "## saving the x,y,z positions with their corresponding angles"
   ]
  },
  {
   "cell_type": "code",
   "execution_count": 4,
   "id": "426a64cd",
   "metadata": {},
   "outputs": [],
   "source": [
    "new_transformed_points = []\n",
    "for i in range(len(transformed_points)):\n",
    "    new_transformed_points.append(np.hstack((transformed_points[i], angles[i])))"
   ]
  },
  {
   "cell_type": "markdown",
   "id": "c04a53da",
   "metadata": {},
   "source": [
    "## visualizing the obtained locations where the robot can place the object (red)"
   ]
  },
  {
   "cell_type": "code",
   "execution_count": null,
   "id": "f9d57930",
   "metadata": {},
   "outputs": [],
   "source": [
    "fig = plt.figure(figsize=(12, 12))\n",
    "ax = fig.add_subplot(111, projection='3d')\n",
    "print(len(new_transformed_points))\n",
    "for i in new_transformed_points:\n",
    "    x = i[0]\n",
    "    y = i[1]\n",
    "    z = i[2]\n",
    "    if i[3] == 1:\n",
    "        ax.scatter(x,y,z,color= 'red', s=2)\n",
    "    else:\n",
    "        ax.scatter(x,y,z,color= 'blue', s=2)\n",
    "\n",
    "ax.set_xlabel('X-axis')\n",
    "ax.set_ylabel('Y-axis')\n",
    "ax.set_zlabel('Z-axis')\n",
    "fig.savefig('plot.png')"
   ]
  },
  {
   "cell_type": "markdown",
   "id": "1f8f34ad",
   "metadata": {},
   "source": [
    "![result](plot.png)"
   ]
  },
  {
   "cell_type": "markdown",
   "id": "63d6a8d6",
   "metadata": {},
   "source": [
    "![Lucy RGB](plot.png) "
   ]
  }
 ],
 "metadata": {
  "kernelspec": {
   "display_name": "Python 3",
   "language": "python",
   "name": "python3"
  },
  "language_info": {
   "codemirror_mode": {
    "name": "ipython",
    "version": 3
   },
   "file_extension": ".py",
   "mimetype": "text/x-python",
   "name": "python",
   "nbconvert_exporter": "python",
   "pygments_lexer": "ipython3",
   "version": "3.8.5"
  }
 },
 "nbformat": 4,
 "nbformat_minor": 5
}
